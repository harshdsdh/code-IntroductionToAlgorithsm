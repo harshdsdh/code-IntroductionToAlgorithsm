{
 "cells": [
  {
   "cell_type": "markdown",
   "metadata": {},
   "source": [
    "### ch 10 from Introduction to Algo. by thomas H cormen"
   ]
  },
  {
   "cell_type": "markdown",
   "metadata": {},
   "source": [
    "#### stack"
   ]
  },
  {
   "cell_type": "code",
   "execution_count": 1,
   "metadata": {},
   "outputs": [],
   "source": [
    "#10.1.1\n",
    "#design a stack with push , pop operations in empty stack \n",
    "'''\n",
    "create an array where append values from one side and pop from the same side too\n",
    "'''\n",
    "arr=[]\n",
    "def push(x):\n",
    "    arr.append(x)\n",
    "\n",
    "def pop():\n",
    "    if len(arr)>0:\n",
    "        arr.pop()\n",
    "    else:\n",
    "        print(\"empty stack\")\n",
    "\n",
    "def printStack():\n",
    "    print(arr)\n"
   ]
  },
  {
   "cell_type": "code",
   "execution_count": 2,
   "metadata": {},
   "outputs": [
    {
     "name": "stdout",
     "output_type": "stream",
     "text": [
      "[4, 1]\n"
     ]
    }
   ],
   "source": [
    "push(4)\n",
    "push(1)\n",
    "push(3)\n",
    "pop()\n",
    "push(8)\n",
    "pop()\n",
    "printStack()"
   ]
  },
  {
   "cell_type": "code",
   "execution_count": 3,
   "metadata": {},
   "outputs": [],
   "source": [
    "#10.1-2\n",
    "# implement two stacks in one array\n",
    "'''\n",
    "Ans - divide an array into 2 parts from 0 to n/2 and n/2 to n. make sure each stack stays within its size\n",
    "\n",
    "'''\n",
    "class twoStacks:\n",
    "    def __init__(self,n):\n",
    "        self.n=n\n",
    "        self.arr=[None]*n\n",
    "        self.startS1=0\n",
    "        self.startS2 = int(n/2)\n",
    "    def push(self,stack,x):\n",
    "        if stack==\"s1\" and self.startS1<self.n/2:\n",
    "            self.arr.insert(self.startS1,x)\n",
    "            self.startS1+=1\n",
    "        elif stack==\"s2\" and self.startS2<self.n:\n",
    "            self.arr.insert(self.startS2,x)\n",
    "            self.startS2+=1\n",
    "        else:\n",
    "            print(\"overflow\")\n",
    "    def pop(self,stack):\n",
    "        if stack==\"s1\" and self.arr[0]!=None:\n",
    "            self.arr.pop()\n",
    "            self.startS1-=1\n",
    "        elif stack ==\"s2\" and self.arr[int((self.n)/2)]!=None:\n",
    "            self.arr.pop()\n",
    "            self.startS2-=1\n",
    "        else:\n",
    "            print(\"stack underflow\")\n",
    "    def printStacks(self):\n",
    "        print(\"stack 1 {}\".format(self.arr[0:self.startS1]))\n",
    "        print(\"stack 2 {}\".format(self.arr[int(self.n/2):self.startS2]))\n"
   ]
  },
  {
   "cell_type": "code",
   "execution_count": 4,
   "metadata": {},
   "outputs": [],
   "source": [
    "ts = twoStacks(10)"
   ]
  },
  {
   "cell_type": "code",
   "execution_count": 5,
   "metadata": {},
   "outputs": [],
   "source": [
    "ts.push(\"s1\",1) \n",
    "ts.push(\"s1\",2) \n",
    "ts.push(\"s1\",3) \n",
    "\n",
    "ts.push(\"s2\",5) \n",
    "ts.push(\"s2\",6) \n",
    "ts.push(\"s2\",7)"
   ]
  },
  {
   "cell_type": "code",
   "execution_count": 6,
   "metadata": {},
   "outputs": [
    {
     "name": "stdout",
     "output_type": "stream",
     "text": [
      "stack 1 [1, 2, 3]\n",
      "stack 2 [5, 6, 7]\n"
     ]
    }
   ],
   "source": [
    "ts.printStacks()"
   ]
  },
  {
   "cell_type": "code",
   "execution_count": 7,
   "metadata": {},
   "outputs": [],
   "source": [
    "ts.pop(\"s1\")\n",
    "ts.pop(\"s2\")"
   ]
  },
  {
   "cell_type": "code",
   "execution_count": 8,
   "metadata": {},
   "outputs": [
    {
     "name": "stdout",
     "output_type": "stream",
     "text": [
      "stack 1 [1, 2]\n",
      "stack 2 [5, 6]\n"
     ]
    }
   ],
   "source": [
    "ts.printStacks()"
   ]
  },
  {
   "cell_type": "code",
   "execution_count": 9,
   "metadata": {},
   "outputs": [],
   "source": [
    "#10.1-3 and 10.1-4\n",
    "#enqueue and dequeue in operations in queue with overflow and underflow\n",
    "'''\n",
    "Ans - append values from one side and remove values from other side. maintain start and end variables \n",
    "'''\n",
    "class que:\n",
    "    def __init__(self,n):\n",
    "        self.n  = n\n",
    "        self.arr = [None]*n\n",
    "        self.start=0\n",
    "        self.end = 0\n",
    "    def Enqueue(self,x):\n",
    "        if self.end<self.n:\n",
    "            self.arr.insert(self.end,x)\n",
    "            self.end+=1\n",
    "        else:\n",
    "            print(\"queue overflow\")\n",
    "    def Dequeue(self):\n",
    "        if self.start<=self.end:\n",
    "            self.arr.pop(self.start)\n",
    "            self.start+=1\n",
    "        \n",
    "        else:\n",
    "            print(\"stack undeflow\")\n",
    "    def printQ(self):\n",
    "        print(self.arr)"
   ]
  },
  {
   "cell_type": "code",
   "execution_count": 10,
   "metadata": {},
   "outputs": [],
   "source": [
    "q = que(6)"
   ]
  },
  {
   "cell_type": "code",
   "execution_count": 11,
   "metadata": {},
   "outputs": [],
   "source": [
    "q.Enqueue(1)\n",
    "q.Enqueue(2)\n",
    "q.Enqueue(3)"
   ]
  },
  {
   "cell_type": "code",
   "execution_count": 12,
   "metadata": {},
   "outputs": [
    {
     "name": "stdout",
     "output_type": "stream",
     "text": [
      "[1, 2, 3, None, None, None, None, None, None]\n"
     ]
    }
   ],
   "source": [
    "q.printQ()"
   ]
  },
  {
   "cell_type": "code",
   "execution_count": 13,
   "metadata": {},
   "outputs": [],
   "source": [
    "q.Dequeue()"
   ]
  },
  {
   "cell_type": "code",
   "execution_count": 14,
   "metadata": {
    "scrolled": true
   },
   "outputs": [
    {
     "name": "stdout",
     "output_type": "stream",
     "text": [
      "[2, 3, None, None, None, None, None, None]\n"
     ]
    }
   ],
   "source": [
    "q.printQ()"
   ]
  },
  {
   "cell_type": "code",
   "execution_count": 15,
   "metadata": {},
   "outputs": [],
   "source": [
    "#10.1-5\n",
    "#deque\n",
    "\n",
    "class DQ:\n",
    "    def __init__ (self,n):\n",
    "        self.n = n\n",
    "        self.arr=[None]*n\n",
    "        self.start=0\n",
    "        self.end = 0\n",
    "    def push(self,x):\n",
    "        if self.end<self.n:\n",
    "            self.arr.insert(self.end,x)\n",
    "            self.end+=1\n",
    "        else:\n",
    "            print(\"can't push from right\")\n",
    "    def pushLeft(self,x):\n",
    "        if self.start>=0:\n",
    "            self.arr.insert(self.start,x)\n",
    "        else:\n",
    "            print(\"can't push from left\")\n",
    "    def pop(self):\n",
    "        if self.start<=self.end:\n",
    "            self.arr.pop(self.start)\n",
    "            self.start+=1\n",
    "    def popRight(self):\n",
    "        if self.start<=self.end:\n",
    "            self.arr.pop(self.end)\n",
    "            self.end-=1\n",
    "    def printQ(self):\n",
    "        print(self.arr)"
   ]
  },
  {
   "cell_type": "code",
   "execution_count": 16,
   "metadata": {},
   "outputs": [],
   "source": [
    "q = DQ(10)"
   ]
  },
  {
   "cell_type": "code",
   "execution_count": 17,
   "metadata": {},
   "outputs": [],
   "source": [
    "q.push(1)\n",
    "q.push(2)\n",
    "q.pushLeft(3)\n",
    "q.pushLeft(4)"
   ]
  },
  {
   "cell_type": "code",
   "execution_count": 18,
   "metadata": {
    "scrolled": true
   },
   "outputs": [
    {
     "name": "stdout",
     "output_type": "stream",
     "text": [
      "[4, 3, 1, 2, None, None, None, None, None, None, None, None, None, None]\n"
     ]
    }
   ],
   "source": [
    "q.printQ()"
   ]
  },
  {
   "cell_type": "code",
   "execution_count": 19,
   "metadata": {},
   "outputs": [],
   "source": [
    "q.pop()\n",
    "q.popRight()"
   ]
  },
  {
   "cell_type": "code",
   "execution_count": 20,
   "metadata": {
    "scrolled": true
   },
   "outputs": [
    {
     "name": "stdout",
     "output_type": "stream",
     "text": [
      "[3, 1, None, None, None, None, None, None, None, None, None, None]\n"
     ]
    }
   ],
   "source": [
    "q.printQ()"
   ]
  },
  {
   "cell_type": "code",
   "execution_count": 21,
   "metadata": {},
   "outputs": [],
   "source": [
    "#10.1-6\n",
    "#create a queue with two stacks\n",
    "'''\n",
    "Ans - remove values from one arr in reverser order and put it in another stack . remove the top element in second stack.\n",
    "then put the values back into first stack by traversing in reverse order\n",
    "'''\n",
    "class que:\n",
    "    def __init__(self):\n",
    "        self.arr1=[]\n",
    "        self.arr2=[]\n",
    "    def Equeue(self,x):\n",
    "        self.arr1.append(x)\n",
    "    def Dequeue(self):\n",
    "        for i in range(len(self.arr1)-1,-1,-1):\n",
    "            t = self.arr1[i]\n",
    "            self.arr1.pop()\n",
    "            self.arr2.append(t)\n",
    "        self.arr2.pop()\n",
    "        for i in range(len(self.arr2)-1,-1,-1):\n",
    "            t=self.arr2[i]\n",
    "            self.arr1.append(t)\n",
    "            self.arr2.pop()\n",
    "    def printQ(self):\n",
    "        print(self.arr1)\n"
   ]
  },
  {
   "cell_type": "code",
   "execution_count": 22,
   "metadata": {},
   "outputs": [],
   "source": [
    "q = que()"
   ]
  },
  {
   "cell_type": "code",
   "execution_count": 23,
   "metadata": {},
   "outputs": [],
   "source": [
    "q.Equeue(1)\n",
    "q.Equeue(2)\n",
    "q.Equeue(3)\n",
    "q.Equeue(4)"
   ]
  },
  {
   "cell_type": "code",
   "execution_count": 24,
   "metadata": {},
   "outputs": [
    {
     "name": "stdout",
     "output_type": "stream",
     "text": [
      "[1, 2, 3, 4]\n"
     ]
    }
   ],
   "source": [
    "q.printQ()"
   ]
  },
  {
   "cell_type": "code",
   "execution_count": 25,
   "metadata": {},
   "outputs": [],
   "source": [
    "q.Dequeue()"
   ]
  },
  {
   "cell_type": "code",
   "execution_count": 26,
   "metadata": {
    "scrolled": true
   },
   "outputs": [
    {
     "name": "stdout",
     "output_type": "stream",
     "text": [
      "[2, 3, 4]\n"
     ]
    }
   ],
   "source": [
    "q.printQ()"
   ]
  },
  {
   "cell_type": "code",
   "execution_count": 27,
   "metadata": {},
   "outputs": [],
   "source": [
    "#10.1-7\n",
    "#create a stack with two queues\n",
    "'''\n",
    "Ans - create two stacks. from one stack push all values into another stack and pop those values from first stack.\n",
    "when first stack has only one value then remove it but do not append it into other stack. \n",
    "put the values in second stack back in first stack\n",
    "'''\n",
    "class Stack:\n",
    "    def __init__(self):\n",
    "        self.arr1=[]\n",
    "        self.arr2=[]\n",
    "    def push(self,x):\n",
    "        self.arr1.append(x)\n",
    "    def pop(self):\n",
    "        for i in self.arr1:\n",
    "            if i!=self.arr1[len(self.arr1)-1]:\n",
    "                self.arr2.append(i)\n",
    "        self.arr1=[]\n",
    "       \n",
    "        self.arr2,self.arr1 = self.arr1,self.arr2\n",
    "    def printStack(self):\n",
    "        print(self.arr1)\n",
    "            "
   ]
  },
  {
   "cell_type": "code",
   "execution_count": 28,
   "metadata": {},
   "outputs": [],
   "source": [
    "b = Stack()"
   ]
  },
  {
   "cell_type": "code",
   "execution_count": 29,
   "metadata": {
    "scrolled": true
   },
   "outputs": [
    {
     "name": "stdout",
     "output_type": "stream",
     "text": [
      "[1, 2, 3]\n"
     ]
    }
   ],
   "source": [
    "b.push(1)\n",
    "b.push(2)\n",
    "b.push(3)\n",
    "b.printStack()"
   ]
  },
  {
   "cell_type": "code",
   "execution_count": 30,
   "metadata": {},
   "outputs": [
    {
     "name": "stdout",
     "output_type": "stream",
     "text": [
      "[1, 2]\n"
     ]
    }
   ],
   "source": [
    "b.pop()\n",
    "b.printStack()"
   ]
  }
 ],
 "metadata": {
  "kernelspec": {
   "display_name": "Python 3",
   "language": "python",
   "name": "python3"
  },
  "language_info": {
   "codemirror_mode": {
    "name": "ipython",
    "version": 3
   },
   "file_extension": ".py",
   "mimetype": "text/x-python",
   "name": "python",
   "nbconvert_exporter": "python",
   "pygments_lexer": "ipython3",
   "version": "3.7.1"
  }
 },
 "nbformat": 4,
 "nbformat_minor": 2
}
